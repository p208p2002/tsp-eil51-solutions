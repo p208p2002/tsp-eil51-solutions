{
 "cells": [
  {
   "cell_type": "markdown",
   "metadata": {},
   "source": [
    "# SA-eil51(parallel and dynamic swap)"
   ]
  },
  {
   "cell_type": "markdown",
   "metadata": {},
   "source": [
    "## SA Pseudocode\n",
    "```\n",
    "s := s0; e := E (s)                           // 設定目前狀態為s0，其能量E (s0)\n",
    "k := 0                                       // 評估次數k\n",
    "while k < kmax and e > emin                  // 若還有時間（評估次數k還不到kmax）且結果還不夠好（能量e不夠低）則：\n",
    "  sn := neighbour (s)                         //   隨機選取一鄰近狀態sn\n",
    "  en := E (sn)                                //   sn的能量為E (sn)\n",
    "  if random() < P(e, en, temp(k/kmax)) then  //   決定是否移至鄰近狀態sn\n",
    "    s := sn; e := en                         //     移至鄰近狀態sn\n",
    "  k := k + 1                                 //   評估完成，次數k加一\n",
    "return s                                     // 回傳狀態s\n",
    "```"
   ]
  },
  {
   "cell_type": "markdown",
   "metadata": {},
   "source": [
    "## Core function"
   ]
  },
  {
   "cell_type": "code",
   "execution_count": 1,
   "metadata": {},
   "outputs": [],
   "source": [
    "# coding: utf-8\n",
    "import sys\n",
    "import time\n",
    "import math\n",
    "import random\n",
    "\n",
    "# For GA\n",
    "def mutation(c,LEN,NUM_CITIES):\n",
    "    doMutation = random.randint(1,100)\n",
    "    c = c.copy()\n",
    "    splitPointStart = random.randint(0,NUM_CITIES - LEN)\n",
    "    splitPointEnd = splitPointStart + LEN\n",
    "    cSplit = c[splitPointStart:splitPointEnd]\n",
    "    random.shuffle(cSplit)\n",
    "    c[splitPointStart:splitPointEnd] = cSplit\n",
    "    return c\n",
    "\n",
    "# From E.G.\n",
    "def loadDic(dicPath = './eil51.txt'):\n",
    "    dic={}\n",
    "    with open(dicPath) as f:\n",
    "        r=f.read()\n",
    "        read_line = r.split('\\n')              \n",
    "        \n",
    "        for i in range(len(read_line)):         \n",
    "            read_element = read_line[i].split()\n",
    "            dic[int(read_element[0])] = [int(read_element[1])]\n",
    "            dic[int(read_element[0])].append(int(read_element[2]))\n",
    "        \n",
    "        f.close()\n",
    "    return dic\n",
    "\n",
    "def ran(domain): # generate two numbers  that in range to  swap  (ex: if answer is [4,7] means city 4 and city 7 seq. order swap)\n",
    "    num = []\n",
    "    first = random.randint(1,domain)\n",
    "    num.append(first)\n",
    "    second = random.randint(1,domain)\n",
    "    ok = 0\n",
    "    while(ok==0):\n",
    "        if second != first:\n",
    "            num.append(second)\n",
    "            ok = 1\n",
    "        else:\n",
    "            second = random.randint(1,domain)\n",
    "            ok = 0\n",
    "    return num\n",
    "\n",
    "def init(num): ## generate init city sequence\n",
    "    seq = []\n",
    "    while len(seq) < num:\n",
    "        temp = random.randint(1,num)\n",
    "        if temp not in seq:\n",
    "            seq.append(temp)\n",
    "            \n",
    "    return seq\n",
    "\n",
    "def trans(seq):\n",
    "    ok_flag=0\n",
    "    temp = seq[:]\n",
    "    index = ran(len(seq))\n",
    "    \n",
    "    while (ok_flag ==0) : \n",
    "        if index[0]!=index[1]:\n",
    "            ok_flag =1\n",
    "        else:\n",
    "            index = ran(len(seq))\n",
    "        \n",
    "        \n",
    "    t = temp[index[0]-1]\n",
    "    temp[index[0]-1] = temp[index[1]-1]\n",
    "    temp[index[1]-1] = t\n",
    "    \n",
    "    return temp\n",
    "\n",
    "def distance(axis):\n",
    "    return math.sqrt(axis[0]*axis[0]+axis[1]*axis[1])\n",
    "\n",
    "def evalu(seq,dic):\n",
    "    # 計算seq path 距離\n",
    "    dist = 0\n",
    "    for i in range(len(seq)):\n",
    "        d = [ dic[seq[i]][0]-dic[seq[(i+1)%len(seq)]][0],dic[seq[i]][1]-dic[seq[(i+1)%len(seq)]][1]]\n",
    "        dist += distance(d)\n",
    "    return dist\n",
    "\n",
    "def determine(temp,min_seq,dic):\n",
    "    if evalu(temp,dic) < evalu(min_seq,dic):\n",
    "        min_seq = temp[:]\n",
    "  \n",
    "    return min_seq,evalu(min_seq,dic)\n",
    "    \n",
    "            \n",
    "def readfile(dic):\n",
    "    with open('eil51.txt') as f:\n",
    "        r = f.read()\n",
    "        read_line = r.split('\\n')               \n",
    "        for i in range(len(read_line)):         \n",
    "            read_element = read_line[i].split()\n",
    "            dic[int(read_element[0])] = [int(read_element[1])]\n",
    "            dic[int(read_element[0])].append(int(read_element[2]))\n",
    "        f.close()\n",
    "# swap\n",
    "def swap(swap_num,c):\n",
    "    c = c.copy()\n",
    "    def selectIndexs(swap_num=swap_num,c=c):\n",
    "        c = c.copy()\n",
    "        swIndexs = []\n",
    "        while(len(swIndexs) != swap_num):\n",
    "            ranIndex = random.randint(0,len(c)-1)\n",
    "            if ranIndex not in swIndexs:\n",
    "                swIndexs.append(ranIndex)\n",
    "        return swIndexs\n",
    "    swIndexs1 = selectIndexs()\n",
    "    swIndexs2 = selectIndexs()\n",
    "    \n",
    "    for i in range(len(swIndexs1)):\n",
    "        tmp = c[swIndexs1[i]]\n",
    "        c[swIndexs1[i]] = c[swIndexs2[i]]\n",
    "        c[swIndexs2[i]] = tmp\n",
    "    return c.copy()\n"
   ]
  },
  {
   "cell_type": "markdown",
   "metadata": {},
   "source": [
    "## DEF"
   ]
  },
  {
   "cell_type": "code",
   "execution_count": 2,
   "metadata": {},
   "outputs": [],
   "source": [
    "NUM_CITIES =51\n",
    "DIC = loadDic()"
   ]
  },
  {
   "cell_type": "markdown",
   "metadata": {},
   "source": [
    "## INIT"
   ]
  },
  {
   "cell_type": "code",
   "execution_count": 3,
   "metadata": {},
   "outputs": [
    {
     "name": "stdout",
     "output_type": "stream",
     "text": [
      "[30, 11, 29, 39, 9, 6, 24, 33, 14, 27, 17, 36, 12, 22, 8, 32, 31, 18, 48, 50, 13, 40, 26, 5, 34, 43, 10, 46, 19, 51, 41, 35, 44, 42, 25, 7, 15, 21, 37, 1, 45, 49, 47, 23, 20, 2, 28, 4, 16, 38, 3] 1713.0010954403158\n"
     ]
    }
   ],
   "source": [
    "pathSeq = init(NUM_CITIES)\n",
    "print(pathSeq,evalu(pathSeq,DIC))"
   ]
  },
  {
   "cell_type": "code",
   "execution_count": 4,
   "metadata": {},
   "outputs": [],
   "source": [
    "currentPath = pathSeq.copy()\n",
    "currentVal = evalu(currentPath,DIC)\n",
    "nextPath = currentPath.copy()\n",
    "nextVal = currentVal"
   ]
  },
  {
   "cell_type": "markdown",
   "metadata": {},
   "source": [
    "## SA-Algorithm(parallel and dynamic swap)"
   ]
  },
  {
   "cell_type": "code",
   "execution_count": 5,
   "metadata": {},
   "outputs": [
    {
     "name": "stdout",
     "output_type": "stream",
     "text": [
      "[3, 28, 31, 26, 8, 1, 48, 23, 7, 43, 24, 6, 32, 11, 34, 30, 39, 10, 49, 5, 38, 9, 50, 16, 21, 35, 36, 20, 29, 2, 46, 47, 4, 18, 14, 25, 13, 41, 40, 19, 42, 44, 45, 33, 15, 37, 17, 12, 51, 27, 22] 514.1102000804442\n"
     ]
    }
   ],
   "source": [
    "valRec = []\n",
    "pipes = 3\n",
    "T = 2000\n",
    "R = 100000\n",
    "def Metropo1is(delta,T):\n",
    "    if T <= 0:\n",
    "        T = 1\n",
    "    return math.exp(-1*(delta/T))\n",
    "    \n",
    "while(R > 0):    \n",
    "    paths = []\n",
    "    for j in range(pipes):\n",
    "        nextPath = swap(random.randint(2,4),currentPath)\n",
    "        nextVal = evalu(nextPath,DIC)\n",
    "        paths.append((nextPath,nextVal))\n",
    "    paths.sort(key=lambda tup: tup[1]) \n",
    "    nextPath,nextVal = paths[0]\n",
    "    \n",
    "    if(nextVal < currentVal):\n",
    "        currentPath = nextPath.copy()\n",
    "        currentVal = nextVal        \n",
    "    else:\n",
    "        gate = Metropo1is(abs(currentVal-nextVal),T)\n",
    "        ranNum = random.random()\n",
    "        if ranNum<=gate: # 接受            \n",
    "            currentPath = nextPath.copy()\n",
    "            currentVal = nextVal\n",
    "            T = T*0.98\n",
    "    valRec.append(currentVal)\n",
    "    R -= 1\n",
    "    \n",
    "print(currentPath,currentVal)"
   ]
  },
  {
   "cell_type": "markdown",
   "metadata": {},
   "source": [
    "# PLOT"
   ]
  },
  {
   "cell_type": "code",
   "execution_count": 6,
   "metadata": {},
   "outputs": [],
   "source": [
    "import numpy as np\n",
    "import matplotlib\n",
    "import matplotlib.pyplot as plt\n",
    "import random\n",
    "# from core import *\n",
    "\n",
    "def showPlot(PATH_SEQ,title):\n",
    "    # load\n",
    "    DIC = loadDic()\n",
    "    with open('./eil51.txt','r') as f:\n",
    "        eil51 = f.read()\n",
    "    eil51 = eil51.split(\"\\n\")\n",
    "\n",
    "    # x y\n",
    "    x=[]\n",
    "    y=[]\n",
    "    for i in eil51:\n",
    "        newi = i.split(\" \")\n",
    "        x.append(int(newi[1]))\n",
    "        y.append(int(newi[2]))\n",
    "\n",
    "    myX = []\n",
    "    myY = []\n",
    "    myPath = PATH_SEQ\n",
    "    for i in myPath:\n",
    "        _x,_y = DIC[i]\n",
    "        myX.append(_x)\n",
    "        myY.append(_y)\n",
    "    \n",
    "    # matplotlib.rcParams['axes.unicode_minus'] = False\n",
    "    fig, ax = plt.subplots()\n",
    "    ax.plot(x, y, 'o')\n",
    "    ax.set_title(title)\n",
    "    plt.plot(myX,myY)\n",
    "    plt.show()"
   ]
  },
  {
   "cell_type": "code",
   "execution_count": 7,
   "metadata": {},
   "outputs": [
    {
     "data": {
      "image/png": "[encoded data removed]",
      "text/plain": [
       "<Figure size 432x288 with 1 Axes>"
      ]
     },
     "metadata": {
      "needs_background": "light"
     },
     "output_type": "display_data"
    }
   ],
   "source": [
    "showPlot(currentPath,'TRAVEL PATH')"
   ]
  },
  {
   "cell_type": "code",
   "execution_count": 8,
   "metadata": {},
   "outputs": [
    {
     "data": {
      "image/png": "[encoded data removed]",
      "text/plain": [
       "<Figure size 432x288 with 1 Axes>"
      ]
     },
     "metadata": {
      "needs_background": "light"
     },
     "output_type": "display_data"
    }
   ],
   "source": [
    "plt.plot(valRec)\n",
    "plt.show()"
   ]
  }
 ],
 "metadata": {
  "kernelspec": {
   "display_name": "Python 3",
   "language": "python",
   "name": "python3"
  },
  "language_info": {
   "codemirror_mode": {
    "name": "ipython",
    "version": 3
   },
   "file_extension": ".py",
   "mimetype": "text/x-python",
   "name": "python",
   "nbconvert_exporter": "python",
   "pygments_lexer": "ipython3",
   "version": "3.7.4"
  }
 },
 "nbformat": 4,
 "nbformat_minor": 2
}
